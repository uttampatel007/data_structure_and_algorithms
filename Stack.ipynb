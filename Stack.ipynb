{
 "cells": [
  {
   "cell_type": "code",
   "execution_count": 9,
   "id": "9572a89d",
   "metadata": {},
   "outputs": [
    {
     "name": "stdout",
     "output_type": "stream",
     "text": [
      "['https://www.moneycontrol.com/news/international-womens-day/', 'https://www.moneycontrol.com/portfolio-management/portfolio-investment-signup.php', 'https://www.moneycontrol.com/commodity/', 'https://mmb.moneycontrol.com/']\n"
     ]
    }
   ],
   "source": [
    "# Stack\n",
    "\n",
    "# not recommended to use list for stack implementation\n",
    "s = []\n",
    "s.append(\"https://www.moneycontrol.com/news/international-womens-day/\")\n",
    "s.append(\"https://www.moneycontrol.com/portfolio-management/portfolio-investment-signup.php\")\n",
    "s.append(\"https://www.moneycontrol.com/commodity/\")\n",
    "s.append(\"https://mmb.moneycontrol.com/\")\n",
    "\n",
    "print(s)"
   ]
  },
  {
   "cell_type": "code",
   "execution_count": 10,
   "id": "4f4d551d",
   "metadata": {},
   "outputs": [
    {
     "data": {
      "text/plain": [
       "'https://mmb.moneycontrol.com/'"
      ]
     },
     "execution_count": 10,
     "metadata": {},
     "output_type": "execute_result"
    }
   ],
   "source": [
    "s.pop()"
   ]
  },
  {
   "cell_type": "code",
   "execution_count": null,
   "id": "5636e676",
   "metadata": {},
   "outputs": [],
   "source": []
  },
  {
   "cell_type": "code",
   "execution_count": 11,
   "id": "7daf0125",
   "metadata": {},
   "outputs": [],
   "source": [
    "from collections import deque\n",
    "stack = deque()"
   ]
  },
  {
   "cell_type": "code",
   "execution_count": 1,
   "id": "b1b91674",
   "metadata": {
    "scrolled": true
   },
   "outputs": [],
   "source": [
    "# dir(stack)"
   ]
  },
  {
   "cell_type": "code",
   "execution_count": 13,
   "id": "4a437abf",
   "metadata": {},
   "outputs": [
    {
     "data": {
      "text/plain": [
       "deque(['https://www.moneycontrol.com/news/international-womens-day/',\n",
       "       'https://www.moneycontrol.com/portfolio-management/portfolio-investment-signup.php',\n",
       "       'https://www.moneycontrol.com/commodity/',\n",
       "       'https://mmb.moneycontrol.com/'])"
      ]
     },
     "execution_count": 13,
     "metadata": {},
     "output_type": "execute_result"
    }
   ],
   "source": [
    "stack.append(\"https://www.moneycontrol.com/news/international-womens-day/\")\n",
    "stack.append(\"https://www.moneycontrol.com/portfolio-management/portfolio-investment-signup.php\")\n",
    "stack.append(\"https://www.moneycontrol.com/commodity/\")\n",
    "stack.append(\"https://mmb.moneycontrol.com/\")\n",
    "stack"
   ]
  },
  {
   "cell_type": "code",
   "execution_count": 14,
   "id": "defa6e1d",
   "metadata": {},
   "outputs": [
    {
     "data": {
      "text/plain": [
       "'https://mmb.moneycontrol.com/'"
      ]
     },
     "execution_count": 14,
     "metadata": {},
     "output_type": "execute_result"
    }
   ],
   "source": [
    "stack.pop()"
   ]
  },
  {
   "cell_type": "code",
   "execution_count": null,
   "id": "547b0e94",
   "metadata": {},
   "outputs": [],
   "source": [
    "# reverse string using stack"
   ]
  },
  {
   "cell_type": "code",
   "execution_count": 17,
   "id": "bf7006af",
   "metadata": {},
   "outputs": [
    {
     "data": {
      "text/plain": [
       "'91-DIVOC ereuqnoc lliw eW'"
      ]
     },
     "execution_count": 17,
     "metadata": {},
     "output_type": "execute_result"
    }
   ],
   "source": [
    "string = \"We will conquere COVID-19\"\n",
    "\n",
    "stack = deque()\n",
    "\n",
    "for x in string:\n",
    "    stack.append(x)\n",
    "    \n",
    "reverse_string = \"\"\n",
    "\n",
    "for y in range(len(stack)):\n",
    "    reverse_string+=stack.pop()\n",
    "    \n",
    "reverse_string"
   ]
  },
  {
   "cell_type": "code",
   "execution_count": null,
   "id": "213dcfcc",
   "metadata": {},
   "outputs": [],
   "source": [
    "# check if paranthesis in the string are balanced or not"
   ]
  },
  {
   "cell_type": "code",
   "execution_count": 20,
   "id": "d8799066",
   "metadata": {},
   "outputs": [
    {
     "data": {
      "text/plain": [
       "'('"
      ]
     },
     "execution_count": 20,
     "metadata": {},
     "output_type": "execute_result"
    }
   ],
   "source": [
    "string = \"({a+b})\"\n",
    "\n",
    "stack = deque()\n",
    "\n",
    "for x in string:\n",
    "    if x in [\"(\",\")\",\"[\",\"]\",\"{\",\"}\"]:\n",
    "        stack.append(x)\n",
    "\n",
    "stack\n",
    "    "
   ]
  },
  {
   "cell_type": "code",
   "execution_count": null,
   "id": "4d669457",
   "metadata": {},
   "outputs": [],
   "source": []
  }
 ],
 "metadata": {
  "kernelspec": {
   "display_name": "Python 3 (ipykernel)",
   "language": "python",
   "name": "python3"
  },
  "language_info": {
   "codemirror_mode": {
    "name": "ipython",
    "version": 3
   },
   "file_extension": ".py",
   "mimetype": "text/x-python",
   "name": "python",
   "nbconvert_exporter": "python",
   "pygments_lexer": "ipython3",
   "version": "3.8.10"
  }
 },
 "nbformat": 4,
 "nbformat_minor": 5
}
